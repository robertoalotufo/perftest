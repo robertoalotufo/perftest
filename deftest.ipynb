{
 "cells": [
  {
   "cell_type": "markdown",
   "metadata": {},
   "source": [
    "# Demonstração do testador de programas - Instância do tester e função comparação"
   ]
  },
  {
   "cell_type": "code",
   "execution_count": 1,
   "metadata": {
    "collapsed": false
   },
   "outputs": [
    {
     "name": "stdout",
     "output_type": "stream",
     "text": [
      "/opt/projects/mylocalprojects/perftest\n"
     ]
    }
   ],
   "source": [
    "import os,sys\n",
    "tbxpath = os.path.abspath('.')\n",
    "print(tbxpath)\n",
    "\n",
    "\n",
    "from perftest import Tester\n",
    "\n",
    "def assert_fnc(user_fnc, input, groundtruth):\n",
    "    return float((user_fnc(input)==groundtruth).all())\n",
    "\n",
    "tester = Tester(assert_fnc, 'perftest', 'deftest')"
   ]
  },
  {
   "cell_type": "markdown",
   "metadata": {},
   "source": [
    "## Criação dos casos de teste e de treino juntamente com pesos para formação da nota final"
   ]
  },
  {
   "cell_type": "code",
   "execution_count": 2,
   "metadata": {
    "collapsed": false
   },
   "outputs": [],
   "source": [
    "#from deftest import tester\n",
    "import numpy as np\n",
    "\n",
    "# IMPORTANTE: Os casos de teste devem ser apagados se esta página sofrer múltiplas edições\n",
    "tester._teste_cases = []\n",
    "tester._train_cases = []\n",
    "\n",
    "def gabarito(f):\n",
    "    return f.transpose()\n",
    "\n",
    "shapes = [(150,150),(300,300),(450,450)]\n",
    "for i, s in enumerate(shapes):\n",
    "    f = np.random.randn(*s)\n",
    "    tester.add_test_case(f, gabarito(f), weight=i+1, label='{} x {}'.format(*s), show_in_results_table=(i%2)==0)"
   ]
  },
  {
   "cell_type": "code",
   "execution_count": 3,
   "metadata": {
    "collapsed": true
   },
   "outputs": [],
   "source": [
    "shapes = [(5,5),(256,256)]\n",
    "for i, s in enumerate(shapes):\n",
    "    f = np.random.randn(*s)\n",
    "    tester.add_train_case(f, gabarito(f))"
   ]
  },
  {
   "cell_type": "markdown",
   "metadata": {},
   "source": [
    "## Página com resultados"
   ]
  },
  {
   "cell_type": "code",
   "execution_count": 4,
   "metadata": {
    "collapsed": false
   },
   "outputs": [
    {
     "name": "stdout",
     "output_type": "stream",
     "text": [
      "Nenhum resultado encontrado.\n"
     ]
    }
   ],
   "source": [
    "#from tbx_perftest.deftest1 import tester\n",
    "    \n",
    "#from restest1 import tester\n",
    "    \n",
    "tester.show_results_table(local_only=False)\n"
   ]
  },
  {
   "cell_type": "markdown",
   "metadata": {},
   "source": [
    "## Submissão do usuário"
   ]
  },
  {
   "cell_type": "markdown",
   "metadata": {},
   "source": [
    "### Função do usuário 1\n",
    "\n",
    "Implementação do código a ser submetido. Deve ser um módulo."
   ]
  },
  {
   "cell_type": "code",
   "execution_count": null,
   "metadata": {
    "collapsed": true
   },
   "outputs": [],
   "source": []
  },
  {
   "cell_type": "markdown",
   "metadata": {},
   "source": [
    "### Inclusão e submissão do teste"
   ]
  },
  {
   "cell_type": "code",
   "execution_count": 5,
   "metadata": {
    "collapsed": false
   },
   "outputs": [
    {
     "name": "stdout",
     "output_type": "stream",
     "text": [
      "Tabela de resultados consolidados de 0 funções distribuídas em 0 páginas distintas.\n"
     ]
    },
    {
     "data": {
      "text/html": [
       "<div>\n",
       "<table border=\"1\" class=\"dataframe\">\n",
       "  <thead>\n",
       "    <tr style=\"text-align: right;\">\n",
       "      <th></th>\n",
       "      <th>0</th>\n",
       "      <th>1</th>\n",
       "      <th>2</th>\n",
       "      <th>3</th>\n",
       "      <th>4</th>\n",
       "      <th>5</th>\n",
       "      <th>6</th>\n",
       "      <th>7</th>\n",
       "      <th>8</th>\n",
       "      <th>9</th>\n",
       "      <th>...</th>\n",
       "      <th>20</th>\n",
       "      <th>21</th>\n",
       "      <th>22</th>\n",
       "      <th>23</th>\n",
       "      <th>24</th>\n",
       "      <th>25</th>\n",
       "      <th>26</th>\n",
       "      <th>27</th>\n",
       "      <th>28</th>\n",
       "      <th>29</th>\n",
       "    </tr>\n",
       "  </thead>\n",
       "  <tbody>\n",
       "    <tr>\n",
       "      <th>0</th>\n",
       "      <td>\"Ranking do autor\"</td>\n",
       "      <td>\"Ranking da função\"</td>\n",
       "      <td>\"Autor\"</td>\n",
       "      <td>\"Função\"</td>\n",
       "      <td>\"150 x 150 (tempo em ms)\"</td>\n",
       "      <td>\"150 x 150 (pontuação)\"</td>\n",
       "      <td>\"450 x 450 (tempo em ms)\"</td>\n",
       "      <td>\"450 x 450 (pontuação)\"</td>\n",
       "      <td>\"150 x 150 (tempo em ms)\"</td>\n",
       "      <td>\"150 x 150 (pontuação)\"</td>\n",
       "      <td>...</td>\n",
       "      <td>\"150 x 150 (tempo em ms)\"</td>\n",
       "      <td>\"150 x 150 (pontuação)\"</td>\n",
       "      <td>\"450 x 450 (tempo em ms)\"</td>\n",
       "      <td>\"450 x 450 (pontuação)\"</td>\n",
       "      <td>\"150 x 150 (tempo em ms)\"</td>\n",
       "      <td>\"150 x 150 (pontuação)\"</td>\n",
       "      <td>\"450 x 450 (tempo em ms)\"</td>\n",
       "      <td>\"450 x 450 (pontuação)\"</td>\n",
       "      <td>\"Tempo total (ms)\"</td>\n",
       "      <td>\"Pontuação total\"</td>\n",
       "    </tr>\n",
       "    <tr>\n",
       "      <th>1</th>\n",
       "      <td>1</td>\n",
       "      <td>1</td>\n",
       "      <td>\"roberto\"</td>\n",
       "      <td>\"transposicao2()\"</td>\n",
       "      <td>0.053</td>\n",
       "      <td>100%</td>\n",
       "      <td>0.299</td>\n",
       "      <td>100%</td>\n",
       "      <td>0.049</td>\n",
       "      <td>100%</td>\n",
       "      <td>...</td>\n",
       "      <td>0.030</td>\n",
       "      <td>100%</td>\n",
       "      <td>0.202</td>\n",
       "      <td>100%</td>\n",
       "      <td>0.028</td>\n",
       "      <td>100%</td>\n",
       "      <td>0.150</td>\n",
       "      <td>100%</td>\n",
       "      <td>2.259</td>\n",
       "      <td>100%</td>\n",
       "    </tr>\n",
       "    <tr>\n",
       "      <th>2</th>\n",
       "      <td>1</td>\n",
       "      <td>2</td>\n",
       "      <td>\"roberto\"</td>\n",
       "      <td>\"transposicao()\"</td>\n",
       "      <td>0.030</td>\n",
       "      <td>100%</td>\n",
       "      <td>0.269</td>\n",
       "      <td>100%</td>\n",
       "      <td>0.046</td>\n",
       "      <td>100%</td>\n",
       "      <td>...</td>\n",
       "      <td>0.045</td>\n",
       "      <td>100%</td>\n",
       "      <td>0.240</td>\n",
       "      <td>100%</td>\n",
       "      <td>0.040</td>\n",
       "      <td>100%</td>\n",
       "      <td>0.219</td>\n",
       "      <td>100%</td>\n",
       "      <td>2.621</td>\n",
       "      <td>100%</td>\n",
       "    </tr>\n",
       "    <tr>\n",
       "      <th>3</th>\n",
       "      <td>1</td>\n",
       "      <td>3</td>\n",
       "      <td>\"roberto\"</td>\n",
       "      <td>\"transp()\"</td>\n",
       "      <td>0.028</td>\n",
       "      <td>100%</td>\n",
       "      <td>0.379</td>\n",
       "      <td>0%</td>\n",
       "      <td>0.028</td>\n",
       "      <td>100%</td>\n",
       "      <td>...</td>\n",
       "      <td>0.028</td>\n",
       "      <td>100%</td>\n",
       "      <td>0.388</td>\n",
       "      <td>0%</td>\n",
       "      <td>0.026</td>\n",
       "      <td>100%</td>\n",
       "      <td>0.556</td>\n",
       "      <td>0%</td>\n",
       "      <td>3.539</td>\n",
       "      <td>17%</td>\n",
       "    </tr>\n",
       "    <tr>\n",
       "      <th>4</th>\n",
       "      <td>1</td>\n",
       "      <td>4</td>\n",
       "      <td>\"roberto\"</td>\n",
       "      <td>\"trans()\"</td>\n",
       "      <td>0.044</td>\n",
       "      <td>0%</td>\n",
       "      <td>0.496</td>\n",
       "      <td>0%</td>\n",
       "      <td>0.043</td>\n",
       "      <td>0%</td>\n",
       "      <td>...</td>\n",
       "      <td>0.051</td>\n",
       "      <td>0%</td>\n",
       "      <td>0.674</td>\n",
       "      <td>0%</td>\n",
       "      <td>0.041</td>\n",
       "      <td>0%</td>\n",
       "      <td>0.316</td>\n",
       "      <td>0%</td>\n",
       "      <td>4.655</td>\n",
       "      <td>0%</td>\n",
       "    </tr>\n",
       "  </tbody>\n",
       "</table>\n",
       "<p>5 rows × 30 columns</p>\n",
       "</div>"
      ],
      "text/plain": [
       "                      0                    1          2                  3   \\\n",
       "0     \"Ranking do autor\"  \"Ranking da função\"    \"Autor\"           \"Função\"   \n",
       "1                      1                    1  \"roberto\"  \"transposicao2()\"   \n",
       "2                      1                    2  \"roberto\"   \"transposicao()\"   \n",
       "3                      1                    3  \"roberto\"         \"transp()\"   \n",
       "4                      1                    4  \"roberto\"          \"trans()\"   \n",
       "\n",
       "                          4                        5   \\\n",
       "0  \"150 x 150 (tempo em ms)\"  \"150 x 150 (pontuação)\"   \n",
       "1                      0.053                     100%   \n",
       "2                      0.030                     100%   \n",
       "3                      0.028                     100%   \n",
       "4                      0.044                       0%   \n",
       "\n",
       "                          6                        7   \\\n",
       "0  \"450 x 450 (tempo em ms)\"  \"450 x 450 (pontuação)\"   \n",
       "1                      0.299                     100%   \n",
       "2                      0.269                     100%   \n",
       "3                      0.379                       0%   \n",
       "4                      0.496                       0%   \n",
       "\n",
       "                          8                        9         ...          \\\n",
       "0  \"150 x 150 (tempo em ms)\"  \"150 x 150 (pontuação)\"        ...           \n",
       "1                      0.049                     100%        ...           \n",
       "2                      0.046                     100%        ...           \n",
       "3                      0.028                     100%        ...           \n",
       "4                      0.043                       0%        ...           \n",
       "\n",
       "                          20                       21  \\\n",
       "0  \"150 x 150 (tempo em ms)\"  \"150 x 150 (pontuação)\"   \n",
       "1                      0.030                     100%   \n",
       "2                      0.045                     100%   \n",
       "3                      0.028                     100%   \n",
       "4                      0.051                       0%   \n",
       "\n",
       "                          22                       23  \\\n",
       "0  \"450 x 450 (tempo em ms)\"  \"450 x 450 (pontuação)\"   \n",
       "1                      0.202                     100%   \n",
       "2                      0.240                     100%   \n",
       "3                      0.388                       0%   \n",
       "4                      0.674                       0%   \n",
       "\n",
       "                          24                       25  \\\n",
       "0  \"150 x 150 (tempo em ms)\"  \"150 x 150 (pontuação)\"   \n",
       "1                      0.028                     100%   \n",
       "2                      0.040                     100%   \n",
       "3                      0.026                     100%   \n",
       "4                      0.041                       0%   \n",
       "\n",
       "                          26                       27                  28  \\\n",
       "0  \"450 x 450 (tempo em ms)\"  \"450 x 450 (pontuação)\"  \"Tempo total (ms)\"   \n",
       "1                      0.150                     100%               2.259   \n",
       "2                      0.219                     100%               2.621   \n",
       "3                      0.556                       0%               3.539   \n",
       "4                      0.316                       0%               4.655   \n",
       "\n",
       "                  29  \n",
       "0  \"Pontuação total\"  \n",
       "1               100%  \n",
       "2               100%  \n",
       "3                17%  \n",
       "4                 0%  \n",
       "\n",
       "[5 rows x 30 columns]"
      ]
     },
     "metadata": {},
     "output_type": "display_data"
    }
   ],
   "source": [
    "#from restest1 import tester\n",
    "from roberto import transposicao, transposicao2, transp, trans\n",
    "\n",
    "tester.run_test(transposicao)\n",
    "tester.run_test(trans)\n",
    "tester.run_test(transp)\n",
    "tester.run_test(transposicao2)\n",
    "\n",
    "# show table of results\n",
    "tester.show_results_table()"
   ]
  },
  {
   "cell_type": "code",
   "execution_count": null,
   "metadata": {
    "collapsed": true
   },
   "outputs": [],
   "source": []
  },
  {
   "cell_type": "code",
   "execution_count": null,
   "metadata": {
    "collapsed": true
   },
   "outputs": [],
   "source": []
  }
 ],
 "metadata": {
  "kernelspec": {
   "display_name": "Python [Root]",
   "language": "python",
   "name": "Python [Root]"
  },
  "language_info": {
   "codemirror_mode": {
    "name": "ipython",
    "version": 2
   },
   "file_extension": ".py",
   "mimetype": "text/x-python",
   "name": "python",
   "nbconvert_exporter": "python",
   "pygments_lexer": "ipython2",
   "version": "2.7.12"
  },
  "toc": {
   "colors": {
    "hover_highlight": "#DAA520",
    "running_highlight": "#FF0000",
    "selected_highlight": "#FFD700"
   },
   "moveMenuLeft": true,
   "nav_menu": {
    "height": "120px",
    "width": "252px"
   },
   "navigate_menu": true,
   "number_sections": true,
   "sideBar": true,
   "threshold": 4,
   "toc_cell": false,
   "toc_section_display": "block",
   "toc_window_display": false
  }
 },
 "nbformat": 4,
 "nbformat_minor": 2
}
