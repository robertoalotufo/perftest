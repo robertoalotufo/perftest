{
 "cells": [
  {
   "cell_type": "markdown",
   "metadata": {},
   "source": [
    "# Demonstração do testador de programas - Instância do tester e função comparação"
   ]
  },
  {
   "cell_type": "code",
   "execution_count": 5,
   "metadata": {
    "collapsed": false
   },
   "outputs": [
    {
     "name": "stdout",
     "output_type": "stream",
     "text": [
      "/Users/robertoalotufo/mylocalprojects/mylocalprojects/perftest\n"
     ]
    }
   ],
   "source": [
    "import os,sys\n",
    "tbxpath = os.path.abspath('.')\n",
    "print(tbxpath)\n",
    "\n",
    "\n",
    "from perftest import Tester\n",
    "\n",
    "def assert_fnc(user_fnc, input, groundtruth):\n",
    "    return float((user_fnc(input)==groundtruth).all())\n",
    "\n",
    "tester = Tester(assert_fnc, 'perftest', 'deftest')"
   ]
  },
  {
   "cell_type": "markdown",
   "metadata": {},
   "source": [
    "## Criação dos casos de teste e de treino juntamente com pesos para formação da nota final"
   ]
  },
  {
   "cell_type": "code",
   "execution_count": 6,
   "metadata": {
    "collapsed": false
   },
   "outputs": [],
   "source": [
    "#from deftest import tester\n",
    "import numpy as np\n",
    "\n",
    "# IMPORTANTE: Os casos de teste devem ser apagados se esta página sofrer múltiplas edições\n",
    "tester._teste_cases = []\n",
    "tester._train_cases = []\n",
    "\n",
    "def gabarito(f):\n",
    "    return f.transpose()\n",
    "\n",
    "shapes = [(150,150),(300,300),(450,450)]\n",
    "for i, s in enumerate(shapes):\n",
    "    f = np.random.randn(*s)\n",
    "    tester.add_test_case(f, gabarito(f), weight=i+1, label='{} x {}'.format(*s), show_in_results_table=(i%2)==0)"
   ]
  },
  {
   "cell_type": "code",
   "execution_count": 7,
   "metadata": {
    "collapsed": true
   },
   "outputs": [],
   "source": [
    "shapes = [(5,5),(256,256)]\n",
    "for i, s in enumerate(shapes):\n",
    "    f = np.random.randn(*s)\n",
    "    tester.add_train_case(f, gabarito(f))"
   ]
  },
  {
   "cell_type": "markdown",
   "metadata": {},
   "source": [
    "## Página com resultados"
   ]
  },
  {
   "cell_type": "code",
   "execution_count": 8,
   "metadata": {
    "collapsed": false
   },
   "outputs": [
    {
     "name": "stdout",
     "output_type": "stream",
     "text": [
      "Nenhum resultado encontrado.\n"
     ]
    }
   ],
   "source": [
    "#from tbx_perftest.deftest1 import tester\n",
    "    \n",
    "#from restest1 import tester\n",
    "    \n",
    "tester.show_results_table(local_only=False)\n"
   ]
  },
  {
   "cell_type": "markdown",
   "metadata": {},
   "source": [
    "## Submissão do usuário"
   ]
  },
  {
   "cell_type": "markdown",
   "metadata": {},
   "source": [
    "### Função do usuário 1\n",
    "\n",
    "Implementação do código a ser submetido. Deve ser um módulo."
   ]
  },
  {
   "cell_type": "code",
   "execution_count": null,
   "metadata": {
    "collapsed": true
   },
   "outputs": [],
   "source": []
  },
  {
   "cell_type": "markdown",
   "metadata": {},
   "source": [
    "### Inclusão e submissão do teste"
   ]
  },
  {
   "cell_type": "code",
   "execution_count": 9,
   "metadata": {
    "collapsed": false
   },
   "outputs": [
    {
     "name": "stdout",
     "output_type": "stream",
     "text": [
      ".. csv-table:: Tabela de resultados consolidados de 0 funções distribuídas em 0 páginas distintas.\n",
      "   :header-rows: 1\n",
      "\n",
      "   \"Ranking do autor\",\"Ranking da fun��o\",\"Autor\",\"Fun��o\",\"150 x 150 (tempo em ms)\",\"150 x 150 (pontua��o)\",\"450 x 450 (tempo em ms)\",\"450 x 450 (pontua��o)\",\"150 x 150 (tempo em ms)\",\"150 x 150 (pontua��o)\",\"450 x 450 (tempo em ms)\",\"450 x 450 (pontua��o)\",\"150 x 150 (tempo em ms)\",\"150 x 150 (pontua��o)\",\"450 x 450 (tempo em ms)\",\"450 x 450 (pontua��o)\",\"150 x 150 (tempo em ms)\",\"150 x 150 (pontua��o)\",\"450 x 450 (tempo em ms)\",\"450 x 450 (pontua��o)\",\"150 x 150 (tempo em ms)\",\"150 x 150 (pontua��o)\",\"450 x 450 (tempo em ms)\",\"450 x 450 (pontua��o)\",\"150 x 150 (tempo em ms)\",\"150 x 150 (pontua��o)\",\"450 x 450 (tempo em ms)\",\"450 x 450 (pontua��o)\",\"150 x 150 (tempo em ms)\",\"150 x 150 (pontua��o)\",\"450 x 450 (tempo em ms)\",\"450 x 450 (pontua��o)\",\"150 x 150 (tempo em ms)\",\"150 x 150 (pontua��o)\",\"450 x 450 (tempo em ms)\",\"450 x 450 (pontua��o)\",\"150 x 150 (tempo em ms)\",\"150 x 150 (pontua��o)\",\"450 x 450 (tempo em ms)\",\"450 x 450 (pontua��o)\",\"150 x 150 (tempo em ms)\",\"150 x 150 (pontua��o)\",\"450 x 450 (tempo em ms)\",\"450 x 450 (pontua��o)\",\"150 x 150 (tempo em ms)\",\"150 x 150 (pontua��o)\",\"450 x 450 (tempo em ms)\",\"450 x 450 (pontua��o)\",\"Tempo total (ms)\",\"Pontua��o total\"\n",
      "   1,1,\"roberto\",\"transposicao2()\",0.050,100%,0.379,100%,0.047,100%,0.344,100%,0.064,100%,0.401,100%,0.046,100%,0.406,100%,0.062,100%,0.416,100%,0.046,100%,0.364,100%,0.048,100%,0.343,100%,0.047,100%,0.409,100%,0.048,100%,0.363,100%,0.047,100%,0.358,100%,0.043,100%,0.272,100%,6.147,100%\n",
      "   1,2,\"roberto\",\"transposicao()\",0.075,100%,0.467,100%,0.047,100%,0.428,100%,0.108,100%,0.489,100%,0.049,100%,0.458,100%,0.085,100%,0.425,100%,0.047,100%,0.569,100%,0.067,100%,0.437,100%,0.076,100%,0.534,100%,0.071,100%,0.451,100%,0.071,100%,0.517,100%,0.072,100%,0.418,100%,8.179,100%\n",
      "   1,3,\"roberto\",\"transp()\",0.048,100%,0.979,0%,0.047,100%,1.369,0%,0.067,100%,1.020,0%,0.051,100%,0.845,0%,0.048,100%,0.980,0%,0.048,100%,0.942,0%,0.047,100%,0.993,0%,0.048,100%,1.175,0%,0.052,100%,0.822,0%,0.048,100%,0.986,0%,0.044,100%,0.738,0%,15.191,17%\n",
      "   1,4,\"roberto\",\"trans()\",0.159,0%,1.273,0%,0.154,0%,1.735,0%,0.145,0%,1.283,0%,0.095,0%,1.261,0%,0.097,0%,1.315,0%,0.094,0%,1.582,0%,0.192,0%,1.414,0%,0.093,0%,1.058,0%,0.169,0%,1.045,0%,0.106,0%,1.620,0%,0.093,0%,0.718,0%,20.947,0%\n"
     ]
    },
    {
     "name": "stderr",
     "output_type": "stream",
     "text": [
      "/Users/robertoalotufo/mylocalprojects/mylocalprojects/perftest/perftest.py:341: RuntimeWarning: divide by zero encountered in true_divide\n",
      "  scores = 1.0/np.array(scores)\n"
     ]
    }
   ],
   "source": [
    "#from restest1 import tester\n",
    "from roberto import transposicao, transposicao2, transp, trans\n",
    "\n",
    "tester.run_test(transposicao)\n",
    "tester.run_test(trans)\n",
    "tester.run_test(transp)\n",
    "tester.run_test(transposicao2)\n",
    "\n",
    "# show table of results\n",
    "tester.show_results_table()"
   ]
  },
  {
   "cell_type": "code",
   "execution_count": null,
   "metadata": {
    "collapsed": true
   },
   "outputs": [],
   "source": []
  },
  {
   "cell_type": "code",
   "execution_count": null,
   "metadata": {
    "collapsed": true
   },
   "outputs": [],
   "source": []
  }
 ],
 "metadata": {
  "kernelspec": {
   "display_name": "Python 3",
   "language": "python",
   "name": "python3"
  },
  "language_info": {
   "codemirror_mode": {
    "name": "ipython",
    "version": 3
   },
   "file_extension": ".py",
   "mimetype": "text/x-python",
   "name": "python",
   "nbconvert_exporter": "python",
   "pygments_lexer": "ipython3",
   "version": "3.6.0"
  },
  "toc": {
   "colors": {
    "hover_highlight": "#DAA520",
    "running_highlight": "#FF0000",
    "selected_highlight": "#FFD700"
   },
   "moveMenuLeft": true,
   "nav_menu": {
    "height": "120px",
    "width": "252px"
   },
   "navigate_menu": true,
   "number_sections": true,
   "sideBar": true,
   "threshold": 4,
   "toc_cell": false,
   "toc_section_display": "block",
   "toc_window_display": false
  }
 },
 "nbformat": 4,
 "nbformat_minor": 2
}
