{
 "cells": [
  {
   "cell_type": "markdown",
   "metadata": {},
   "source": [
    "===============================================\n",
    "pirp_4e_qc - Imagem com quadrados cinzas\n",
    "===============================================\n",
    "\n",
    "Criando o teste\n",
    "===============\n",
    "\n",
    ".. code:: python module\n",
    "    \n",
    "    from tbx_perftest.tester import Tester\n",
    "    import numpy as np\n",
    "    \n",
    "    def assert_fnc(user_fnc, input, groundtruth):\n",
    "        OK = float(np.array_equal(user_fnc(input),groundtruth))\n",
    "        return OK\n",
    "    \n",
    "    tester = Tester(assert_fnc, 'tbx_perftest', 'pirp_4e_qc',10)\n",
    "\n",
    "=======================================================================================\n",
    "Criação dos casos de teste e de treino juntamente com pesos para formação da nota final\n",
    "=======================================================================================\n",
    "\n",
    ".. code:: python\n",
    "    \n",
    "    from tbx_perftest.pirp_4e_qc import tester\n",
    "    import numpy as np\n",
    "    \n",
    "    # IMPORTANTE: Os casos de teste devem ser apagados se esta página sofrer múltiplas edições\n",
    "    tester.reset_cases()\n",
    "    \n",
    "    def qc_gabarito(img=True):\n",
    "       H,W = 300,600 # image dimensions\n",
    "       s = H/3 # side of internal square\n",
    "       if not img:\n",
    "         H /= 50\n",
    "         W /= 50\n",
    "         s /= 50\n",
    "       f = np.empty((H,W), dtype = np.uint8)\n",
    "       f[:,   :W/2] =  64\n",
    "       f[:,W/2:   ] = 192\n",
    "       f[s:2*s,s:2*s] = f[s:2*s,4*s:5*s] = 128\n",
    "       return f\n",
    "    \n",
    "    \n",
    "    # -----------------------------------\n",
    "    # Registra cada procedimento de teste\n",
    "    #     def addTester(descr, fun, args=[])\n",
    "    # -----------------------------------\n",
    "    \n",
    "    tester.add_test_case(False, qc_gabarito(False), label='numerico', show_in_results_table=True)\n",
    "    tester.add_test_case(True,  qc_gabarito(True) , label='imagem',   show_in_results_table=True)\n",
    "    \n",
    "    tester.add_train_case(False, qc_gabarito(False))\n",
    "    tester.add_train_case(True,  qc_gabarito(True))\n",
    "\n",
    "Testando\n",
    "========\n",
    "\n",
    ".. code:: python\n",
    "\n",
    "       import numpy as np\n",
    "       \n",
    "       print 'input:', tester.get_input(0)\n",
    "       print 'output:', tester.get_output(0)\n",
    "\n",
    "       print qc_gabarito(False)       \n",
    "       adshow(qc_gabarito(),'Imagem gabarito')\n"
   ]
  }
 ],
 "metadata": {
  "kernelspec": {
   "display_name": "Python 3",
   "language": "python",
   "name": "python3"
  },
  "language_info": {
   "codemirror_mode": {
    "name": "ipython",
    "version": 3
   },
   "file_extension": ".py",
   "mimetype": "text/x-python",
   "name": "python",
   "nbconvert_exporter": "python",
   "pygments_lexer": "ipython3",
   "version": "3.6.0"
  },
  "toc": {
   "colors": {
    "hover_highlight": "#DAA520",
    "running_highlight": "#FF0000",
    "selected_highlight": "#FFD700"
   },
   "moveMenuLeft": true,
   "nav_menu": {
    "height": "12px",
    "width": "252px"
   },
   "navigate_menu": true,
   "number_sections": true,
   "sideBar": true,
   "threshold": 4,
   "toc_cell": false,
   "toc_section_display": "block",
   "toc_window_display": false
  }
 },
 "nbformat": 4,
 "nbformat_minor": 2
}
