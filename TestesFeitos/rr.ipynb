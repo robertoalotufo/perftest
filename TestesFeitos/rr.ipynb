{
 "cells": [
  {
   "cell_type": "markdown",
   "metadata": {},
   "source": [
    ":language_code: pt_br\n",
    "\n",
    "`pirp_4e_aux:result_2_rr Resultados` | `pirp_4e_aux:activity_user_username_2_rr Modelo submissão aluno`  | `/media-1/Attachments/tbx_perftest/pirp_4e_2_rr/results.csv`\n",
    "\n",
    "========================================================\n",
    "pirp_4e_rr - Imagem rampa\n",
    "========================================================\n",
    "\n",
    "Criando o teste\n",
    "===============\n",
    "\n",
    ".. code:: python module\n",
    "    \n",
    "    from tbx_perftest.tester import Tester\n",
    "    import numpy as np\n",
    "    \n",
    "    def assert_fnc(user_fnc, input, groundtruth):\n",
    "        g = user_fnc(input)\n",
    "        ok = np.array_equal(g,groundtruth)\n",
    "        return float(ok)\n",
    "    \n",
    "    tester = Tester(assert_fnc, 'tbx_perftest', 'pirp_4e_rr',runs=10)\n",
    "\n",
    "=======================================================================================\n",
    "Criação dos casos de teste e de treino juntamente com pesos para formação da nota final\n",
    "=======================================================================================\n",
    "\n",
    ".. code:: python\n",
    "    \n",
    "    from tbx_perftest.pirp_4e_rr import tester\n",
    "    import numpy as np\n",
    "    \n",
    "    # IMPORTANTE: Os casos de teste devem ser apagados se esta página sofrer múltiplas edições\n",
    "    tester.reset_cases()\n",
    "    \n",
    "    def rr_gabarito(size):\n",
    "       f = np.resize(np.arange(size),(size,size))\n",
    "       return f\n",
    "    \n",
    "    \n",
    "    # -----------------------------------\n",
    "    # Registra cada procedimento de teste\n",
    "    #     def addTester(descr, fun, args=[])\n",
    "    # -----------------------------------\n",
    "    \n",
    "    tester.add_test_case(10, rr_gabarito(10), label='numerico', show_in_results_table=True)\n",
    "    tester.add_test_case(257,  rr_gabarito(257) , label='imagem',   show_in_results_table=True)\n",
    "    \n",
    "    tester.add_train_case(10, rr_gabarito(10))\n",
    "    tester.add_train_case(257, rr_gabarito(257))\n",
    "\n",
    "Entrada e Saída\n",
    "===============\n",
    "\n",
    ".. code:: python\n",
    "\n",
    "       import numpy as np\n",
    "       import ia636 as ia\n",
    "       \n",
    "       print 'input:', tester.get_input(0)\n",
    "       print 'output:\\n', tester.get_output(0)\n",
    "\n",
    "Gabarito\n",
    "========\n",
    "\n",
    ".. code:: python\n",
    "\n",
    "       print 'gabarito=\\n',rr_gabarito(10)       \n",
    "       adshow(ia.ianormalize(rr_gabarito(257)),'Imagem gabarito')\n"
   ]
  }
 ],
 "metadata": {
  "kernelspec": {
   "display_name": "Python 3",
   "language": "python",
   "name": "python3"
  },
  "language_info": {
   "codemirror_mode": {
    "name": "ipython",
    "version": 3
   },
   "file_extension": ".py",
   "mimetype": "text/x-python",
   "name": "python",
   "nbconvert_exporter": "python",
   "pygments_lexer": "ipython3",
   "version": "3.6.0"
  },
  "toc": {
   "colors": {
    "hover_highlight": "#DAA520",
    "running_highlight": "#FF0000",
    "selected_highlight": "#FFD700"
   },
   "moveMenuLeft": true,
   "nav_menu": {
    "height": "12px",
    "width": "252px"
   },
   "navigate_menu": true,
   "number_sections": true,
   "sideBar": true,
   "threshold": 4,
   "toc_cell": false,
   "toc_section_display": "block",
   "toc_window_display": false
  }
 },
 "nbformat": 4,
 "nbformat_minor": 2
}
