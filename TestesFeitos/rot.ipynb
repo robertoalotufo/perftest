{
 "cells": [
  {
   "cell_type": "markdown",
   "metadata": {},
   "source": [
    ":language_code: pt_br\n",
    "\n",
    "`pirp_4e_aux:result_1_rot Resultados` | `pirp_4e_aux:activity_user_username_1_rot Modelo submissão aluno`  | `/media-1/Attachments/tbx_perftest/pirp_4e_qc/results.csv`\n",
    "\n",
    "========================================================\n",
    "pirp_4e_rot - Rotação 90 graus sentido horário\n",
    "========================================================\n",
    "\n",
    "Criando o teste\n",
    "===============\n",
    "\n",
    ".. code:: python module\n",
    "    \n",
    "    from tbx_perftest.tester import Tester\n",
    "    import numpy as np\n",
    "    \n",
    "    def assert_fnc(user_fnc, input, groundtruth):\n",
    "        input_save = input.copy()\n",
    "        out_fnc = user_fnc(input)\n",
    "        OK      = float(np.array_equal(out_fnc, groundtruth))\n",
    "        OK_copy = float(np.array_equal(input_save, input)) # verify if the function does not change input parameter\n",
    "        return (OK + OK_copy)/2\n",
    "    \n",
    "    tester = Tester(assert_fnc, 'tbx_perftest', 'pirp_4e_rot')\n",
    "\n",
    "=======================================================================================\n",
    "Criação dos casos de teste e de treino juntamente com pesos para formação da nota final\n",
    "=======================================================================================\n",
    "\n",
    ".. code:: python\n",
    "    \n",
    "    from tbx_perftest.pirp_4e_rot import tester\n",
    "    import numpy as np\n",
    "    \n",
    "    # IMPORTANTE: Os casos de teste devem ser apagados se esta página sofrer múltiplas edições\n",
    "    tester.reset_cases()\n",
    "    \n",
    "    def rot_gabarito(f):\n",
    "        import numpy as np\n",
    "        g = np.copy(f)\n",
    "        return g.transpose()[:,::-1]\n",
    "    \n",
    "    # -----------------------------------\n",
    "    # Registra cada procedimento de teste\n",
    "    #     def addTester(descr, fun, args=[])\n",
    "    # -----------------------------------\n",
    "\n",
    "    fn = arange(35).astype(uint8).reshape(5,7)    \n",
    "    f = adreadgray('MVBook/retina.tif')[64:64+128,:]    \n",
    "    tester.add_train_case((fn), rot_gabarito(fn))\n",
    "    tester.add_train_case((f), rot_gabarito(f))\n",
    "\n",
    "    tester.add_test_case((fn), rot_gabarito(fn), label='numerico', show_in_results_table=True)\n",
    "    tester.add_test_case((f) , rot_gabarito(f ), label='imagem',   show_in_results_table=True)\n",
    "    \n",
    "\n",
    "Testando\n",
    "========\n",
    "\n",
    ".. code:: python\n",
    "\n",
    "       import numpy as np\n",
    "       \n",
    "       print 'input:f\\n', tester.get_input(0)\n",
    "\n",
    "       print 'output:\\n', rot_gabarito(tester.get_input(0))    \n",
    "\n",
    "       adshow(rot_gabarito(tester.get_input(1)),'Imagem')\n"
   ]
  }
 ],
 "metadata": {
  "kernelspec": {
   "display_name": "Python 3",
   "language": "python",
   "name": "python3"
  },
  "language_info": {
   "codemirror_mode": {
    "name": "ipython",
    "version": 3
   },
   "file_extension": ".py",
   "mimetype": "text/x-python",
   "name": "python",
   "nbconvert_exporter": "python",
   "pygments_lexer": "ipython3",
   "version": "3.6.0"
  },
  "toc": {
   "colors": {
    "hover_highlight": "#DAA520",
    "running_highlight": "#FF0000",
    "selected_highlight": "#FFD700"
   },
   "moveMenuLeft": true,
   "nav_menu": {
    "height": "12px",
    "width": "252px"
   },
   "navigate_menu": true,
   "number_sections": true,
   "sideBar": true,
   "threshold": 4,
   "toc_cell": false,
   "toc_section_display": "block",
   "toc_window_display": false
  }
 },
 "nbformat": 4,
 "nbformat_minor": 2
}
